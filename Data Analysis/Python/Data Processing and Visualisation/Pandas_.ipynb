{
 "cells": [
  {
   "cell_type": "code",
   "execution_count": 2,
   "id": "bd2eb433",
   "metadata": {},
   "outputs": [
    {
     "name": "stdout",
     "output_type": "stream",
     "text": [
      "0    1\n",
      "1    2\n",
      "2    3\n",
      "3    4\n",
      "4    5\n",
      "dtype: int64\n"
     ]
    }
   ],
   "source": [
    "import pandas as pd\n",
    "## Series ##\n",
    "\n",
    "data= (1,2,3,4,5)\n",
    "series=pd.Series(data)\n",
    "print(series)"
   ]
  },
  {
   "cell_type": "code",
   "execution_count": null,
   "id": "30e4a38f",
   "metadata": {},
   "outputs": [
    {
     "name": "stdout",
     "output_type": "stream",
     "text": [
      "2\n"
     ]
    }
   ],
   "source": [
    "## Creating series from dictionary##\n",
    "\n",
    "dict= {\"a\":1,\"b\":2,\"c\":3,\"d\":4}\n",
    "series=pd.Series(dict)\n",
    "\n",
    "# Acessing data #\n",
    "\n",
    "print(series[\"b\"])"
   ]
  },
  {
   "cell_type": "code",
   "execution_count": 17,
   "id": "0a037224",
   "metadata": {},
   "outputs": [
    {
     "data": {
      "text/plain": [
       "1    10\n",
       "2    20\n",
       "3    30\n",
       "dtype: int64"
      ]
     },
     "execution_count": 17,
     "metadata": {},
     "output_type": "execute_result"
    }
   ],
   "source": [
    "## Customized Index ##\n",
    "data=(10,20,30)\n",
    "my_index=(1,2,3)\n",
    "pd.Series(data, index=my_index)"
   ]
  },
  {
   "cell_type": "code",
   "execution_count": null,
   "id": "79932276",
   "metadata": {},
   "outputs": [
    {
     "name": "stdout",
     "output_type": "stream",
     "text": [
      "      calories  duration\n",
      "day1       420        50\n",
      "day2       380        40\n",
      "day3       390        45\n"
     ]
    }
   ],
   "source": []
  },
  {
   "cell_type": "code",
   "execution_count": null,
   "id": "416a831a",
   "metadata": {},
   "outputs": [
    {
     "name": "stdout",
     "output_type": "stream",
     "text": [
      "      name  age   city\n",
      "0   Shivam   17  Patna\n",
      "1   Satyam   18    Ara\n",
      "2  Sundram   19  Delhi\n"
     ]
    }
   ],
   "source": [
    "\n",
    "data = { \n",
    "    'name':['Shivam', 'Satyam', 'Sundram'],\n",
    "    'age': [17, 18, 19],\n",
    "    'city': ['Patna', 'Ara', 'Delhi']\n",
    "}\n",
    "\n",
    "# Create DataFrame\n",
    "df = pd.DataFrame(data)\n",
    "\n",
    "# Print DataFrame\n",
    "print(df)"
   ]
  },
  {
   "cell_type": "code",
   "execution_count": 8,
   "id": "16870cca",
   "metadata": {},
   "outputs": [
    {
     "name": "stdout",
     "output_type": "stream",
     "text": [
      "      calories  duration\n",
      "day1       420        50\n",
      "day2       380        40\n",
      "day3       390        45\n"
     ]
    }
   ],
   "source": [
    "# Named index #\n",
    "\n",
    "dataA = {\n",
    "  \"calories\": [420, 380, 390],\n",
    "  \"duration\": [50, 40, 45]\n",
    "}\n",
    "\n",
    "df1 = pd.DataFrame(dataA, index = [\"day1\", \"day2\", \"day3\"])\n",
    "\n",
    "print(df1) "
   ]
  },
  {
   "cell_type": "code",
   "execution_count": 9,
   "id": "36107e48",
   "metadata": {},
   "outputs": [
    {
     "name": "stdout",
     "output_type": "stream",
     "text": [
      "      calories  duration\n",
      "day1       420        50\n",
      "      calories  duration\n",
      "day2       380        40\n",
      "day3       390        45\n"
     ]
    }
   ],
   "source": [
    "print(df1.head(1))\n",
    "print(df1.tail(2))"
   ]
  },
  {
   "cell_type": "code",
   "execution_count": 12,
   "id": "a0ace132",
   "metadata": {},
   "outputs": [
    {
     "name": "stdout",
     "output_type": "stream",
     "text": [
      "0     Shivam\n",
      "1     Satyam\n",
      "2    Sundram\n",
      "Name: name, dtype: object\n",
      "<class 'pandas.core.series.Series'>\n"
     ]
    }
   ],
   "source": [
    "## Acessing Data from DataFrame ##\n",
    "\n",
    "\n",
    "data = { \n",
    "    'name':['Shivam', 'Satyam', 'Sundram'],\n",
    "    'age': [17, 18, 19],\n",
    "    'city': ['Patna', 'Ara', 'Delhi']\n",
    "}\n",
    "\n",
    "df = pd.DataFrame(data)\n",
    "\n",
    "\n",
    "nm=df['name']\n",
    "print(nm)\n",
    "\n",
    "## Here we picked 1 column so it became a series ##\n",
    "print(type(nm))"
   ]
  },
  {
   "cell_type": "code",
   "execution_count": null,
   "id": "c86918ec",
   "metadata": {},
   "outputs": [
    {
     "name": "stdout",
     "output_type": "stream",
     "text": [
      "name    Shivam\n",
      "age         17\n",
      "city     Patna\n",
      "Name: 0, dtype: object\n",
      "     name  age   city\n",
      "0  Shivam   17  Patna\n",
      "1  Satyam   18    Ara\n",
      "calories    380\n",
      "duration     40\n",
      "Name: day2, dtype: int64\n",
      "18\n",
      "      name\n",
      "0   Shivam\n",
      "1   Satyam\n",
      "2  Sundram\n"
     ]
    }
   ],
   "source": [
    "## loc\n",
    "\n",
    "#refer to the row index:\n",
    "print(df.loc[0])\n",
    "# Note: This example returns a Pandas Series.\n",
    "\n",
    "#use a list of indexes:\n",
    "print(df.loc[[0, 1]])\n",
    "# Note: When using [], the result is a Pandas DataFrame.\n",
    "\n",
    "#refer to the named index:\n",
    "print(df1.loc[\"day2\"])\n",
    "\n",
    "## iloc\n",
    "# It taks index location as attribute\n",
    "\n",
    "print(df.iloc[1,1])\n",
    "\n",
    "# Passing a range of index\n",
    "print(df.iloc[:,0:1])\n",
    "\n",
    " "
   ]
  },
  {
   "cell_type": "code",
   "execution_count": null,
   "id": "d11d8d26",
   "metadata": {},
   "outputs": [
    {
     "data": {
      "text/html": [
       "<div>\n",
       "<style scoped>\n",
       "    .dataframe tbody tr th:only-of-type {\n",
       "        vertical-align: middle;\n",
       "    }\n",
       "\n",
       "    .dataframe tbody tr th {\n",
       "        vertical-align: top;\n",
       "    }\n",
       "\n",
       "    .dataframe thead th {\n",
       "        text-align: right;\n",
       "    }\n",
       "</style>\n",
       "<table border=\"1\" class=\"dataframe\">\n",
       "  <thead>\n",
       "    <tr style=\"text-align: right;\">\n",
       "      <th></th>\n",
       "      <th>Brand</th>\n",
       "      <th>Year</th>\n",
       "      <th>Kms Driven</th>\n",
       "      <th>City</th>\n",
       "      <th>Mileage</th>\n",
       "    </tr>\n",
       "  </thead>\n",
       "  <tbody>\n",
       "    <tr>\n",
       "      <th>0</th>\n",
       "      <td>Maruti</td>\n",
       "      <td>2012</td>\n",
       "      <td>50000</td>\n",
       "      <td>Gurgaon</td>\n",
       "      <td>28</td>\n",
       "    </tr>\n",
       "    <tr>\n",
       "      <th>1</th>\n",
       "      <td>Hyundai</td>\n",
       "      <td>2014</td>\n",
       "      <td>30000</td>\n",
       "      <td>Delhi</td>\n",
       "      <td>27</td>\n",
       "    </tr>\n",
       "    <tr>\n",
       "      <th>2</th>\n",
       "      <td>Tata</td>\n",
       "      <td>2011</td>\n",
       "      <td>60000</td>\n",
       "      <td>Mumbai</td>\n",
       "      <td>25</td>\n",
       "    </tr>\n",
       "    <tr>\n",
       "      <th>3</th>\n",
       "      <td>Mahindra</td>\n",
       "      <td>2015</td>\n",
       "      <td>25000</td>\n",
       "      <td>Delhi</td>\n",
       "      <td>26</td>\n",
       "    </tr>\n",
       "    <tr>\n",
       "      <th>4</th>\n",
       "      <td>Maruti</td>\n",
       "      <td>2012</td>\n",
       "      <td>10000</td>\n",
       "      <td>Mumbai</td>\n",
       "      <td>28</td>\n",
       "    </tr>\n",
       "    <tr>\n",
       "      <th>5</th>\n",
       "      <td>Hyundai</td>\n",
       "      <td>2016</td>\n",
       "      <td>46000</td>\n",
       "      <td>Delhi</td>\n",
       "      <td>29</td>\n",
       "    </tr>\n",
       "    <tr>\n",
       "      <th>6</th>\n",
       "      <td>Renault</td>\n",
       "      <td>2014</td>\n",
       "      <td>31000</td>\n",
       "      <td>Mumbai</td>\n",
       "      <td>24</td>\n",
       "    </tr>\n",
       "    <tr>\n",
       "      <th>7</th>\n",
       "      <td>Tata</td>\n",
       "      <td>2018</td>\n",
       "      <td>15000</td>\n",
       "      <td>Chennai</td>\n",
       "      <td>21</td>\n",
       "    </tr>\n",
       "    <tr>\n",
       "      <th>8</th>\n",
       "      <td>Maruti</td>\n",
       "      <td>2019</td>\n",
       "      <td>12000</td>\n",
       "      <td>Ghaziabad</td>\n",
       "      <td>24</td>\n",
       "    </tr>\n",
       "  </tbody>\n",
       "</table>\n",
       "</div>"
      ],
      "text/plain": [
       "      Brand  Year  Kms Driven       City  Mileage\n",
       "0    Maruti  2012       50000    Gurgaon       28\n",
       "1   Hyundai  2014       30000      Delhi       27\n",
       "2      Tata  2011       60000     Mumbai       25\n",
       "3  Mahindra  2015       25000      Delhi       26\n",
       "4    Maruti  2012       10000     Mumbai       28\n",
       "5   Hyundai  2016       46000      Delhi       29\n",
       "6   Renault  2014       31000     Mumbai       24\n",
       "7      Tata  2018       15000    Chennai       21\n",
       "8    Maruti  2019       12000  Ghaziabad       24"
      ]
     },
     "metadata": {},
     "output_type": "display_data"
    },
    {
     "name": "stdout",
     "output_type": "stream",
     "text": [
      "    Brand  Year  Kms Driven     City  Mileage\n",
      "0  Maruti  2012       50000  Gurgaon       28\n",
      "4  Maruti  2012       10000   Mumbai       28\n"
     ]
    },
    {
     "data": {
      "text/html": [
       "<div>\n",
       "<style scoped>\n",
       "    .dataframe tbody tr th:only-of-type {\n",
       "        vertical-align: middle;\n",
       "    }\n",
       "\n",
       "    .dataframe tbody tr th {\n",
       "        vertical-align: top;\n",
       "    }\n",
       "\n",
       "    .dataframe thead th {\n",
       "        text-align: right;\n",
       "    }\n",
       "</style>\n",
       "<table border=\"1\" class=\"dataframe\">\n",
       "  <thead>\n",
       "    <tr style=\"text-align: right;\">\n",
       "      <th></th>\n",
       "      <th>Brand</th>\n",
       "      <th>Year</th>\n",
       "      <th>Kms Driven</th>\n",
       "      <th>City</th>\n",
       "      <th>Mileage</th>\n",
       "    </tr>\n",
       "  </thead>\n",
       "  <tbody>\n",
       "    <tr>\n",
       "      <th>0</th>\n",
       "      <td>Maruti</td>\n",
       "      <td>2012</td>\n",
       "      <td>50000</td>\n",
       "      <td>Gurgaon</td>\n",
       "      <td>22</td>\n",
       "    </tr>\n",
       "    <tr>\n",
       "      <th>1</th>\n",
       "      <td>Hyundai</td>\n",
       "      <td>2014</td>\n",
       "      <td>30000</td>\n",
       "      <td>Delhi</td>\n",
       "      <td>22</td>\n",
       "    </tr>\n",
       "    <tr>\n",
       "      <th>2</th>\n",
       "      <td>Tata</td>\n",
       "      <td>2011</td>\n",
       "      <td>60000</td>\n",
       "      <td>Mumbai</td>\n",
       "      <td>22</td>\n",
       "    </tr>\n",
       "    <tr>\n",
       "      <th>3</th>\n",
       "      <td>Mahindra</td>\n",
       "      <td>2015</td>\n",
       "      <td>25000</td>\n",
       "      <td>Delhi</td>\n",
       "      <td>26</td>\n",
       "    </tr>\n",
       "    <tr>\n",
       "      <th>4</th>\n",
       "      <td>Maruti</td>\n",
       "      <td>2012</td>\n",
       "      <td>10000</td>\n",
       "      <td>Mumbai</td>\n",
       "      <td>22</td>\n",
       "    </tr>\n",
       "    <tr>\n",
       "      <th>5</th>\n",
       "      <td>Hyundai</td>\n",
       "      <td>2016</td>\n",
       "      <td>46000</td>\n",
       "      <td>Delhi</td>\n",
       "      <td>29</td>\n",
       "    </tr>\n",
       "    <tr>\n",
       "      <th>6</th>\n",
       "      <td>Renault</td>\n",
       "      <td>2014</td>\n",
       "      <td>31000</td>\n",
       "      <td>Mumbai</td>\n",
       "      <td>22</td>\n",
       "    </tr>\n",
       "    <tr>\n",
       "      <th>7</th>\n",
       "      <td>Tata</td>\n",
       "      <td>2018</td>\n",
       "      <td>15000</td>\n",
       "      <td>Chennai</td>\n",
       "      <td>21</td>\n",
       "    </tr>\n",
       "    <tr>\n",
       "      <th>8</th>\n",
       "      <td>Maruti</td>\n",
       "      <td>2019</td>\n",
       "      <td>12000</td>\n",
       "      <td>Ghaziabad</td>\n",
       "      <td>24</td>\n",
       "    </tr>\n",
       "  </tbody>\n",
       "</table>\n",
       "</div>"
      ],
      "text/plain": [
       "      Brand  Year  Kms Driven       City  Mileage\n",
       "0    Maruti  2012       50000    Gurgaon       22\n",
       "1   Hyundai  2014       30000      Delhi       22\n",
       "2      Tata  2011       60000     Mumbai       22\n",
       "3  Mahindra  2015       25000      Delhi       26\n",
       "4    Maruti  2012       10000     Mumbai       22\n",
       "5   Hyundai  2016       46000      Delhi       29\n",
       "6   Renault  2014       31000     Mumbai       22\n",
       "7      Tata  2018       15000    Chennai       21\n",
       "8    Maruti  2019       12000  Ghaziabad       24"
      ]
     },
     "metadata": {},
     "output_type": "display_data"
    }
   ],
   "source": [
    "##  Getting customized data using loc and updating data\n",
    "\n",
    "data = pd.DataFrame({'Brand': ['Maruti', 'Hyundai', 'Tata', \n",
    "                               'Mahindra', 'Maruti', 'Hyundai', \n",
    "                               'Renault', 'Tata', 'Maruti'], \n",
    "                     'Year': [2012, 2014, 2011, 2015, 2012, \n",
    "                              2016, 2014, 2018, 2019], \n",
    "                     'Kms Driven': [50000, 30000, 60000, \n",
    "                                    25000, 10000, 46000, \n",
    "                                    31000, 15000, 12000], \n",
    "                     'City': ['Gurgaon', 'Delhi', 'Mumbai', \n",
    "                              'Delhi', 'Mumbai', 'Delhi', \n",
    "                              'Mumbai', 'Chennai',  'Ghaziabad'], \n",
    "                     'Mileage':  [28, 27, 25, 26, 28, \n",
    "                                  29, 24, 21, 24]}) \n",
    "  \n",
    "display(data) \n",
    "\n",
    "# selecting cars with brand 'Maruti' and Mileage > 25 \n",
    "print(data.loc[(data.Brand == 'Maruti') & (data.Mileage > 25)])\n",
    "\n",
    "# updating values of Mileage if Year < 2015 \n",
    "data.loc[(data.Year < 2015), ['Mileage']] = 22\n",
    "display(data) \n"
   ]
  },
  {
   "cell_type": "code",
   "execution_count": 25,
   "id": "67080ca4",
   "metadata": {},
   "outputs": [
    {
     "name": "stdout",
     "output_type": "stream",
     "text": [
      "Shivam\n",
      "17\n"
     ]
    }
   ],
   "source": [
    "## at\n",
    "#  In pandas, the at[] function is used to access one value of a row and column in data.\n",
    "# The first is the position of the value and a column and the second is the title of the column.\n",
    "# loc[], works similarly, but the at[] function is more efficient and faster because it can access one value at a time.\n",
    "\n",
    "print(df.at[0,\"name\"])\n",
    "\n",
    "## iat\n",
    "# Pandas iat[] method is used to return data in a dataframe at the passed location. \n",
    "# The passed location is in the format [position in the row, position in the column].\n",
    "#  This method works similarly to Pandas iloc[] but iat[] is used to return only a single value and hence works faster than it.\n",
    "\n",
    "print(df.iat[0,1])\n"
   ]
  },
  {
   "cell_type": "code",
   "execution_count": 21,
   "id": "76b3fb46",
   "metadata": {},
   "outputs": [],
   "source": [
    "## Data Manipulation ##\n",
    "\n",
    "# Adding a column #\n",
    "df[\"salery\"]=[50000,60000,70000]\n",
    "\n",
    "# Removing a column #\n",
    "df.drop('salery',axis=1, inplace=True)"
   ]
  },
  {
   "cell_type": "code",
   "execution_count": 35,
   "id": "fe7ae218",
   "metadata": {},
   "outputs": [
    {
     "name": "stdout",
     "output_type": "stream",
     "text": [
      "<class 'pandas.core.frame.DataFrame'>\n",
      "RangeIndex: 5 entries, 0 to 4\n",
      "Data columns (total 8 columns):\n",
      " #   Column             Non-Null Count  Dtype  \n",
      "---  ------             --------------  -----  \n",
      " 0   Username           5 non-null      object \n",
      " 1   Identifier         4 non-null      float64\n",
      " 2   One-time password  5 non-null      object \n",
      " 3   Recovery code      5 non-null      object \n",
      " 4   First name         5 non-null      object \n",
      " 5   Last name          4 non-null      object \n",
      " 6   Department         5 non-null      object \n",
      " 7   Location           4 non-null      object \n",
      "dtypes: float64(1), object(7)\n",
      "memory usage: 452.0+ bytes\n"
     ]
    }
   ],
   "source": [
    "# Statical Summery #\n",
    "df.describe()\n",
    "\n",
    "# Info about data #\n",
    "df.info()"
   ]
  },
  {
   "cell_type": "code",
   "execution_count": 41,
   "id": "8d670354",
   "metadata": {},
   "outputs": [
    {
     "name": "stdout",
     "output_type": "stream",
     "text": [
      "9999\n",
      "    Username  Identifier One-time password Recovery code First name Last name  \\\n",
      "0   booker12      9012.0            12se74        rb9012     Rachel    Booker   \n",
      "1     grey07      2070.0            04ap67        lg2070      Laura      Grey   \n",
      "2  johnson81      4081.0            30no86        cj4081      Craig   Johnson   \n",
      "\n",
      "  Department    Location  \n",
      "0      Sales  Manchester  \n",
      "1      Depot         NaN  \n",
      "2      Depot      London  \n",
      "        Identifier\n",
      "count     4.000000\n",
      "mean   6127.250000\n",
      "std    3620.798749\n",
      "min    2070.000000\n",
      "25%    3578.250000\n",
      "50%    6546.500000\n",
      "75%    9095.500000\n",
      "max    9346.000000\n"
     ]
    }
   ],
   "source": [
    "## Data Analysis with Pandas ##\n",
    "\n",
    "import pandas as pd\n",
    "df= pd.read_csv(\"username-password-recovery-code.csv\")\n",
    "\n",
    "# Check the number of maximum returned rows:\n",
    "print(pd.options.display.max_rows) \n",
    "# Increase the maximum number of rows to display the entire DataFrame:\n",
    "pd.options.display.max_rows = 9999\n",
    "\n",
    "\n",
    "print(df.head(3))\n",
    "print(df.describe())\n"
   ]
  },
  {
   "cell_type": "code",
   "execution_count": null,
   "id": "42ebc97d",
   "metadata": {},
   "outputs": [],
   "source": [
    "## Handeling missing values or empty cells. ##\n",
    "\n",
    "df.isnull()\n",
    "df.isnull().any(axis=1)\n",
    "df.isnull().sum()\n",
    "df.fillna(0, inplace=True)\n",
    "          \n",
    "## or replace with mean\n",
    "\n",
    "df['Identifier_fillNA']=df['Identifier'].fillna(df['Identifier'].mean()) \n",
    "#or\n",
    "df['Identifier'].fillna(df['Identifier'].mean())  \n",
    "\n",
    "# we can also drpo the rows containing missing values #\n",
    "new_df = df.dropna()\n",
    "## another method\n",
    "df.dropna(inplace=True)#Note: Now, the dropna(inplace = True) will NOT return a new DataFrame, \n",
    "#                                       but it will remove all rows containing NULL values from the original DataFrame."
   ]
  },
  {
   "cell_type": "code",
   "execution_count": null,
   "id": "ff76bea2",
   "metadata": {},
   "outputs": [
    {
     "data": {
      "text/html": [
       "<div>\n",
       "<style scoped>\n",
       "    .dataframe tbody tr th:only-of-type {\n",
       "        vertical-align: middle;\n",
       "    }\n",
       "\n",
       "    .dataframe tbody tr th {\n",
       "        vertical-align: top;\n",
       "    }\n",
       "\n",
       "    .dataframe thead th {\n",
       "        text-align: right;\n",
       "    }\n",
       "</style>\n",
       "<table border=\"1\" class=\"dataframe\">\n",
       "  <thead>\n",
       "    <tr style=\"text-align: right;\">\n",
       "      <th></th>\n",
       "      <th>name</th>\n",
       "      <th>age</th>\n",
       "      <th>Palce</th>\n",
       "    </tr>\n",
       "  </thead>\n",
       "  <tbody>\n",
       "    <tr>\n",
       "      <th>0</th>\n",
       "      <td>Shivam</td>\n",
       "      <td>17</td>\n",
       "      <td>Patna</td>\n",
       "    </tr>\n",
       "    <tr>\n",
       "      <th>1</th>\n",
       "      <td>Satyam</td>\n",
       "      <td>18</td>\n",
       "      <td>Ara</td>\n",
       "    </tr>\n",
       "    <tr>\n",
       "      <th>2</th>\n",
       "      <td>Sundram</td>\n",
       "      <td>19</td>\n",
       "      <td>Delhi</td>\n",
       "    </tr>\n",
       "  </tbody>\n",
       "</table>\n",
       "</div>"
      ],
      "text/plain": [
       "      name  age  Palce\n",
       "0   Shivam   17  Patna\n",
       "1   Satyam   18    Ara\n",
       "2  Sundram   19  Delhi"
      ]
     },
     "execution_count": 32,
     "metadata": {},
     "output_type": "execute_result"
    }
   ],
   "source": [
    "## Renaming Columns ##\n",
    "\n",
    "# df.rename(columns={\"old_name\":\"new_name\"})\n",
    "df.rename(columns={\"city\":\"Palce\"})\n",
    "\n",
    "## Change Datatype ##\n",
    "\n",
    "# df['value_new']=df['value'].astype(float)\n",
    "\n",
    "## Define new functions in values ##\n",
    "\n",
    "# df['new_value']=df['value'].apply(lambda x:x**2)"
   ]
  },
  {
   "cell_type": "code",
   "execution_count": null,
   "id": "29a57045",
   "metadata": {},
   "outputs": [],
   "source": [
    "## Data aggregation and grouping ##\n",
    "import pandas as pd\n",
    "\n",
    "df1 = {\n",
    "    'key': ['A', 'B', 'C'],\n",
    "    'value': [1, 2, 3]\n",
    "}\n",
    "\n",
    "df2 = {\n",
    "    'key': ['A', 'B', 'D'],\n",
    "    'value': [4, 5, 6]\n",
    "}\n",
    "\n",
    "df1 = pd.DataFrame(df1)\n",
    "df2 = pd.DataFrame(df2)\n",
    "\n",
    "pd.merge(df1,df2,on='key',how='inner')\n",
    "\n",
    "pd.merge(df1,df2,on='key',how='outer')\n",
    "\n",
    "pd.merge(df1,df2,on='key',how='left')\n",
    "\n",
    "pd.merge(df1,df2,on='key',how='right')\n"
   ]
  },
  {
   "cell_type": "code",
   "execution_count": null,
   "id": "5ed90e2d",
   "metadata": {},
   "outputs": [],
   "source": [
    "## Reading data from different sources ##\n",
    "import pandas as pd\n",
    "from io import StringIO\n",
    "data={}\n",
    "df=pd.read_json(StringIO(data))\n",
    "df.to_json(orient='record')    ## By Default orient = index ##\n",
    "\n",
    "\n",
    "df=pd.read_csv('http...............',header=None)\n",
    "df.head()\n",
    "df.to_csv('vine.csv')   ## new file to save ##\n",
    "\n",
    "pd.read_hrml('url',match='country',header=0)\n"
   ]
  }
 ],
 "metadata": {
  "kernelspec": {
   "display_name": "base",
   "language": "python",
   "name": "python3"
  },
  "language_info": {
   "codemirror_mode": {
    "name": "ipython",
    "version": 3
   },
   "file_extension": ".py",
   "mimetype": "text/x-python",
   "name": "python",
   "nbconvert_exporter": "python",
   "pygments_lexer": "ipython3",
   "version": "3.12.7"
  }
 },
 "nbformat": 4,
 "nbformat_minor": 5
}
