{
 "cells": [
  {
   "cell_type": "code",
   "execution_count": 13,
   "id": "d417a174",
   "metadata": {},
   "outputs": [
    {
     "name": "stdout",
     "output_type": "stream",
     "text": [
      "[1 2 3]\n",
      "1\n"
     ]
    }
   ],
   "source": [
    "import numpy as np\n",
    "arr1=np.array([1,2,3])\n",
    "print(arr1)\n",
    "print(arr1.ndim)"
   ]
  },
  {
   "cell_type": "code",
   "execution_count": 12,
   "id": "25f1781d",
   "metadata": {},
   "outputs": [
    {
     "name": "stdout",
     "output_type": "stream",
     "text": [
      "(5,)\n"
     ]
    },
    {
     "data": {
      "text/plain": [
       "array([[1],\n",
       "       [3],\n",
       "       [5],\n",
       "       [7],\n",
       "       [9]])"
      ]
     },
     "execution_count": 12,
     "metadata": {},
     "output_type": "execute_result"
    }
   ],
   "source": [
    "arr2=np.arange(1,10,2)\n",
    "print(arr2.shape)\n",
    "arr2.reshape(5,1)"
   ]
  },
  {
   "cell_type": "code",
   "execution_count": 21,
   "id": "d26a5ed6",
   "metadata": {},
   "outputs": [
    {
     "data": {
      "text/plain": [
       "array([[1., 0., 0.],\n",
       "       [0., 1., 0.],\n",
       "       [0., 0., 1.]])"
      ]
     },
     "execution_count": 21,
     "metadata": {},
     "output_type": "execute_result"
    }
   ],
   "source": [
    "#np.ones(shape, dtype, order)\n",
    "np.ones((3,4))\n",
    "np.eye(3)"
   ]
  },
  {
   "cell_type": "code",
   "execution_count": 32,
   "id": "2d6c605e",
   "metadata": {},
   "outputs": [
    {
     "name": "stdout",
     "output_type": "stream",
     "text": [
      "[ 6  8 10 12 14]\n",
      "[4 4 4 4 4]\n",
      "[ 5 12 21 32 45]\n"
     ]
    }
   ],
   "source": [
    "arrA=np.array([1,2,3,4,5])\n",
    "arrB=np.array([5,6,7,8,9])\n",
    "\n",
    "print(arrA+arrB)\n",
    "print(arrB-arrA)\n",
    "print(arrA*arrB)"
   ]
  },
  {
   "cell_type": "code",
   "execution_count": null,
   "id": "e9e4e61a",
   "metadata": {},
   "outputs": [
    {
     "name": "stdout",
     "output_type": "stream",
     "text": [
      "[1.         1.41421356 1.73205081 2.         2.23606798]\n",
      "[1.         1.41421356 1.73205081 2.         2.23606798]\n",
      "[1.         1.41421356 1.73205081 2.         2.23606798]\n"
     ]
    }
   ],
   "source": []
  },
  {
   "cell_type": "code",
   "execution_count": 37,
   "id": "87f81c13",
   "metadata": {},
   "outputs": [
    {
     "name": "stdout",
     "output_type": "stream",
     "text": [
      "[1.         1.41421356 1.73205081 2.         2.23606798]\n",
      "[  2.71828183   7.3890561   20.08553692  54.59815003 148.4131591 ]\n",
      "[ 0.84147098  0.90929743  0.14112001 -0.7568025  -0.95892427]\n",
      "[0.         0.69314718 1.09861229 1.38629436 1.60943791]\n"
     ]
    }
   ],
   "source": [
    "## Universal functions ##\n",
    "arr1=np.array([1,2,3,4,5])\n",
    "print(np.sqrt(arr1))\n",
    "print(np.exp(arr1))\n",
    "print(np.sin(arr1))\n",
    "print(np.log(arr1))\n"
   ]
  },
  {
   "cell_type": "code",
   "execution_count": 48,
   "id": "aaa0a7cf",
   "metadata": {},
   "outputs": [
    {
     "name": "stdout",
     "output_type": "stream",
     "text": [
      "[[ 1  2  3  4]\n",
      " [ 5  6  7  8]\n",
      " [ 9 10 11 12]]\n",
      "[1 2 3 4]\n",
      "1\n",
      "[[ 1  2  3  4]\n",
      " [ 5  6  7  8]\n",
      " [ 9 10 11 12]]\n",
      "[[ 7  8]\n",
      " [11 12]]\n"
     ]
    }
   ],
   "source": [
    "## Array slicing and indexing ## \n",
    "arr=np.array([[1,2,3,4],[5,6,7,8],[9,10,11,12]])\n",
    "print(arr1)\n",
    "\n",
    "print(arr[0])\n",
    "print(arr[0][0])\n",
    "print(arr[0:])\n",
    "print(arr[1:,2:])\n"
   ]
  },
  {
   "cell_type": "code",
   "execution_count": 52,
   "id": "e6e74b7a",
   "metadata": {},
   "outputs": [
    {
     "name": "stdout",
     "output_type": "stream",
     "text": [
      "3.0\n",
      "3.0\n",
      "1.4142135623730951\n",
      "2.0\n"
     ]
    }
   ],
   "source": [
    "## Statical concept ##\n",
    "data = np.array([1,2,3,4,5])\n",
    "\n",
    "print(np.mean(data))\n",
    "print(np.median(data))\n",
    "print(np.std(data))\n",
    "print(np.var(data))"
   ]
  },
  {
   "cell_type": "code",
   "execution_count": 53,
   "id": "0b933f77",
   "metadata": {},
   "outputs": [
    {
     "name": "stdout",
     "output_type": "stream",
     "text": [
      "[False  True False  True False  True False  True False  True]\n"
     ]
    }
   ],
   "source": [
    "## Logical Operations ##\n",
    "\n",
    "data= np.array([1,2,3,4,5,6,7,8,9,10])\n",
    "\n",
    "print(data%2==0)"
   ]
  },
  {
   "cell_type": "markdown",
   "id": "b8baf766",
   "metadata": {},
   "source": [
    "HEADING TO PANDAS"
   ]
  },
  {
   "cell_type": "code",
   "execution_count": 55,
   "id": "050bae56",
   "metadata": {},
   "outputs": [
    {
     "name": "stdout",
     "output_type": "stream",
     "text": [
      "0    1\n",
      "1    2\n",
      "2    3\n",
      "3    4\n",
      "4    5\n",
      "dtype: int64\n"
     ]
    }
   ],
   "source": [
    "import pandas as pd\n",
    "## Series ##\n",
    "\n",
    "data= (1,2,3,4,5)\n",
    "series=pd.Series(data)\n",
    "print(series)"
   ]
  },
  {
   "cell_type": "code",
   "execution_count": 56,
   "id": "7311f705",
   "metadata": {},
   "outputs": [],
   "source": [
    "## Creating series from dictionary##\n",
    "\n",
    "dict= {\"a\":1,\"b\":2,\"c\":3,\"d\":4}\n",
    "series=pd.Series(dict)"
   ]
  },
  {
   "cell_type": "code",
   "execution_count": 57,
   "id": "42a54388",
   "metadata": {},
   "outputs": [
    {
     "data": {
      "text/plain": [
       "1    10\n",
       "2    20\n",
       "3    30\n",
       "dtype: int64"
      ]
     },
     "execution_count": 57,
     "metadata": {},
     "output_type": "execute_result"
    }
   ],
   "source": [
    "## Customized Index ##\n",
    "data=(10,20,30)\n",
    "inya=(1,2,3)\n",
    "pd.Series(data, index=inya)"
   ]
  },
  {
   "cell_type": "code",
   "execution_count": 61,
   "id": "64b6a3a9",
   "metadata": {},
   "outputs": [
    {
     "name": "stdout",
     "output_type": "stream",
     "text": [
      "      name  age   city\n",
      "0   Shivam   17  Patna\n",
      "1   Satyam   18    Ara\n",
      "2  Sundram   19  Delhi\n"
     ]
    }
   ],
   "source": [
    "import pandas as pd\n",
    "data = { \n",
    "    'name':['Shivam', 'Satyam', 'Sundram'],\n",
    "    'age': [17, 18, 19],\n",
    "    'city': ['Patna', 'Ara', 'Delhi']\n",
    "}\n",
    "\n",
    "# Create DataFrame\n",
    "df = pd.DataFrame(data)\n",
    "\n",
    "# Print DataFrame\n",
    "print(df)"
   ]
  },
  {
   "cell_type": "code",
   "execution_count": 65,
   "id": "9046c414",
   "metadata": {},
   "outputs": [
    {
     "name": "stdout",
     "output_type": "stream",
     "text": [
      "     name  age   city\n",
      "0  Shivam   17  Patna\n",
      "      name  age   city\n",
      "1   Satyam   18    Ara\n",
      "2  Sundram   19  Delhi\n"
     ]
    }
   ],
   "source": [
    "print(df.head(1))\n",
    "print(df.tail(2))"
   ]
  },
  {
   "cell_type": "code",
   "execution_count": 72,
   "id": "58e0eb37",
   "metadata": {},
   "outputs": [
    {
     "name": "stdout",
     "output_type": "stream",
     "text": [
      "0     Shivam\n",
      "1     Satyam\n",
      "2    Sundram\n",
      "Name: name, dtype: object\n",
      "<class 'pandas.core.series.Series'>\n",
      "name    Shivam\n",
      "age         17\n",
      "city     Patna\n",
      "Name: 0, dtype: object\n",
      "name    Shivam\n",
      "age         17\n",
      "city     Patna\n",
      "Name: 0, dtype: object\n",
      "Shivam\n",
      "18\n",
      "Delhi\n"
     ]
    },
    {
     "name": "stderr",
     "output_type": "stream",
     "text": [
      "C:\\Users\\SANTOSH\\AppData\\Local\\Temp\\ipykernel_7776\\3214708242.py:11: FutureWarning: Series.__getitem__ treating keys as positions is deprecated. In a future version, integer keys will always be treated as labels (consistent with DataFrame behavior). To access a value by position, use `ser.iloc[pos]`\n",
      "  print(df.iloc[0][0])\n"
     ]
    }
   ],
   "source": [
    "## Acessing Data from DataFrame ##\n",
    "nm=df['name']\n",
    "print(nm)\n",
    "## Here we picked 1 column so it became a series ##\n",
    "print(type(nm))\n",
    "\n",
    "# Row Wise #\n",
    "print(df.loc[0])\n",
    "# Index Location #\n",
    "print(df.iloc[0])\n",
    "print(df.iloc[0][0])\n",
    "\n",
    "# Acessing a specified element #\n",
    "print(df.at[1,\"age\"])\n",
    "print(df.iat[2,2])"
   ]
  },
  {
   "cell_type": "code",
   "execution_count": null,
   "id": "0ed9d81b",
   "metadata": {},
   "outputs": [],
   "source": [
    "## Data Manipulation ##\n",
    "\n",
    "# Adding a column #\n",
    "df[\"salery\"]=[50000,60000,70000]\n",
    "\n",
    "# Removing a column #\n",
    "df.drop('salery',axis=1, inplace=True)"
   ]
  },
  {
   "cell_type": "code",
   "execution_count": 80,
   "id": "76867b0f",
   "metadata": {},
   "outputs": [
    {
     "data": {
      "text/html": [
       "<div>\n",
       "<style scoped>\n",
       "    .dataframe tbody tr th:only-of-type {\n",
       "        vertical-align: middle;\n",
       "    }\n",
       "\n",
       "    .dataframe tbody tr th {\n",
       "        vertical-align: top;\n",
       "    }\n",
       "\n",
       "    .dataframe thead th {\n",
       "        text-align: right;\n",
       "    }\n",
       "</style>\n",
       "<table border=\"1\" class=\"dataframe\">\n",
       "  <thead>\n",
       "    <tr style=\"text-align: right;\">\n",
       "      <th></th>\n",
       "      <th>age</th>\n",
       "    </tr>\n",
       "  </thead>\n",
       "  <tbody>\n",
       "    <tr>\n",
       "      <th>count</th>\n",
       "      <td>3.0</td>\n",
       "    </tr>\n",
       "    <tr>\n",
       "      <th>mean</th>\n",
       "      <td>18.0</td>\n",
       "    </tr>\n",
       "    <tr>\n",
       "      <th>std</th>\n",
       "      <td>1.0</td>\n",
       "    </tr>\n",
       "    <tr>\n",
       "      <th>min</th>\n",
       "      <td>17.0</td>\n",
       "    </tr>\n",
       "    <tr>\n",
       "      <th>25%</th>\n",
       "      <td>17.5</td>\n",
       "    </tr>\n",
       "    <tr>\n",
       "      <th>50%</th>\n",
       "      <td>18.0</td>\n",
       "    </tr>\n",
       "    <tr>\n",
       "      <th>75%</th>\n",
       "      <td>18.5</td>\n",
       "    </tr>\n",
       "    <tr>\n",
       "      <th>max</th>\n",
       "      <td>19.0</td>\n",
       "    </tr>\n",
       "  </tbody>\n",
       "</table>\n",
       "</div>"
      ],
      "text/plain": [
       "        age\n",
       "count   3.0\n",
       "mean   18.0\n",
       "std     1.0\n",
       "min    17.0\n",
       "25%    17.5\n",
       "50%    18.0\n",
       "75%    18.5\n",
       "max    19.0"
      ]
     },
     "execution_count": 80,
     "metadata": {},
     "output_type": "execute_result"
    }
   ],
   "source": [
    "# Statical Summery #\n",
    "df.describe()"
   ]
  },
  {
   "cell_type": "code",
   "execution_count": 105,
   "id": "bc466c3b",
   "metadata": {},
   "outputs": [
    {
     "name": "stdout",
     "output_type": "stream",
     "text": [
      "  Username; Identifier;One-time password;Recovery code;First name;Last name;Department;Location\n",
      "0  booker12;9012;12se74;rb9012;Rachel;Booker;Sale...                                           \n",
      "1  grey07;2070;04ap67;lg2070;Laura;Grey;Depot;London                                           \n",
      "2  johnson81;4081;30no86;cj4081;Craig;Johnson;Dep...                                           \n",
      "       Username; Identifier;One-time password;Recovery code;First name;Last name;Department;Location\n",
      "count                                                   5                                           \n",
      "unique                                                  5                                           \n",
      "top     booker12;9012;12se74;rb9012;Rachel;Booker;Sale...                                           \n",
      "freq                                                    1                                           \n"
     ]
    }
   ],
   "source": [
    "## Data Analysis with Pandas ##\n",
    "\n",
    "import pandas as pd\n",
    "df= pd.read_csv(\"username-password-recovery-code.csv\")\n",
    "\n",
    "print(df.head(3))\n",
    "print(df.describe())\n"
   ]
  },
  {
   "cell_type": "code",
   "execution_count": null,
   "id": "b64693a6",
   "metadata": {},
   "outputs": [
    {
     "data": {
      "text/html": [
       "<div>\n",
       "<style scoped>\n",
       "    .dataframe tbody tr th:only-of-type {\n",
       "        vertical-align: middle;\n",
       "    }\n",
       "\n",
       "    .dataframe tbody tr th {\n",
       "        vertical-align: top;\n",
       "    }\n",
       "\n",
       "    .dataframe thead th {\n",
       "        text-align: right;\n",
       "    }\n",
       "</style>\n",
       "<table border=\"1\" class=\"dataframe\">\n",
       "  <thead>\n",
       "    <tr style=\"text-align: right;\">\n",
       "      <th></th>\n",
       "      <th>Username; Identifier;One-time password;Recovery code;First name;Last name;Department;Location</th>\n",
       "    </tr>\n",
       "  </thead>\n",
       "  <tbody>\n",
       "    <tr>\n",
       "      <th>0</th>\n",
       "      <td>booker12;9012;12se74;rb9012;Rachel;Booker;Sale...</td>\n",
       "    </tr>\n",
       "    <tr>\n",
       "      <th>1</th>\n",
       "      <td>grey07;2070;04ap67;lg2070;Laura;Grey;Depot;London</td>\n",
       "    </tr>\n",
       "    <tr>\n",
       "      <th>2</th>\n",
       "      <td>johnson81;4081;30no86;cj4081;Craig;Johnson;Dep...</td>\n",
       "    </tr>\n",
       "    <tr>\n",
       "      <th>3</th>\n",
       "      <td>jenkins46;9346;14ju73;mj9346;Mary;Jenkins;Engi...</td>\n",
       "    </tr>\n",
       "    <tr>\n",
       "      <th>4</th>\n",
       "      <td>smith79;5079;09ja61;js5079;Jamie;Smith;Enginee...</td>\n",
       "    </tr>\n",
       "  </tbody>\n",
       "</table>\n",
       "</div>"
      ],
      "text/plain": [
       "  Username; Identifier;One-time password;Recovery code;First name;Last name;Department;Location\n",
       "0  booker12;9012;12se74;rb9012;Rachel;Booker;Sale...                                           \n",
       "1  grey07;2070;04ap67;lg2070;Laura;Grey;Depot;London                                           \n",
       "2  johnson81;4081;30no86;cj4081;Craig;Johnson;Dep...                                           \n",
       "3  jenkins46;9346;14ju73;mj9346;Mary;Jenkins;Engi...                                           \n",
       "4  smith79;5079;09ja61;js5079;Jamie;Smith;Enginee...                                           "
      ]
     },
     "execution_count": 107,
     "metadata": {},
     "output_type": "execute_result"
    }
   ],
   "source": [
    "## Handeling missing values ##\n",
    "df.isnull()\n",
    "df.isnull().any(axis=1)\n",
    "df.isnull().sum()\n",
    "df.fillna(0)\n",
    "df['Identifier_fillNA']=df['Identifier'].fillna(df['Identifier'].mean())\n"
   ]
  },
  {
   "cell_type": "code",
   "execution_count": null,
   "id": "7822f30d",
   "metadata": {},
   "outputs": [],
   "source": [
    "## Renaming Columns ##\n",
    "df.rename(column={\"Username\":\"Name\"})\n",
    "## Change Datatype ##\n",
    "df['value_new']=df['value'].astype(float)\n",
    "## Define new functions in values ##\n",
    "df['new_value']=df['value'].apply(lambda x:x**2)"
   ]
  },
  {
   "cell_type": "code",
   "execution_count": null,
   "id": "3679cd3d",
   "metadata": {},
   "outputs": [
    {
     "data": {
      "text/html": [
       "<div>\n",
       "<style scoped>\n",
       "    .dataframe tbody tr th:only-of-type {\n",
       "        vertical-align: middle;\n",
       "    }\n",
       "\n",
       "    .dataframe tbody tr th {\n",
       "        vertical-align: top;\n",
       "    }\n",
       "\n",
       "    .dataframe thead th {\n",
       "        text-align: right;\n",
       "    }\n",
       "</style>\n",
       "<table border=\"1\" class=\"dataframe\">\n",
       "  <thead>\n",
       "    <tr style=\"text-align: right;\">\n",
       "      <th></th>\n",
       "      <th>key</th>\n",
       "      <th>value_x</th>\n",
       "      <th>value_y</th>\n",
       "    </tr>\n",
       "  </thead>\n",
       "  <tbody>\n",
       "    <tr>\n",
       "      <th>0</th>\n",
       "      <td>A</td>\n",
       "      <td>1</td>\n",
       "      <td>4.0</td>\n",
       "    </tr>\n",
       "    <tr>\n",
       "      <th>1</th>\n",
       "      <td>B</td>\n",
       "      <td>2</td>\n",
       "      <td>5.0</td>\n",
       "    </tr>\n",
       "    <tr>\n",
       "      <th>2</th>\n",
       "      <td>C</td>\n",
       "      <td>3</td>\n",
       "      <td>NaN</td>\n",
       "    </tr>\n",
       "  </tbody>\n",
       "</table>\n",
       "</div>"
      ],
      "text/plain": [
       "  key  value_x  value_y\n",
       "0   A        1      4.0\n",
       "1   B        2      5.0\n",
       "2   C        3      NaN"
      ]
     },
     "execution_count": 112,
     "metadata": {},
     "output_type": "execute_result"
    }
   ],
   "source": [
    "## Data aggregation and grouping ##\n",
    "import pandas as pd\n",
    "\n",
    "df1 = {\n",
    "    'key': ['A', 'B', 'C'],\n",
    "    'value': [1, 2, 3]\n",
    "}\n",
    "\n",
    "df2 = {\n",
    "    'key': ['A', 'B', 'D'],\n",
    "    'value': [4, 5, 6]\n",
    "}\n",
    "\n",
    "df1 = pd.DataFrame(df1)\n",
    "df2 = pd.DataFrame(df2)\n",
    "\n",
    "pd.merge(df1,df2,on='key',how='inner')\n",
    "\n",
    "pd.merge(df1,df2,on='key',how='outer')\n",
    "\n",
    "pd.merge(df1,df2,on='key',how='left')\n",
    "\n",
    "pd.merge(df1,df2,on='key',how='right')\n"
   ]
  },
  {
   "cell_type": "code",
   "execution_count": null,
   "id": "2b159c3d",
   "metadata": {},
   "outputs": [],
   "source": [
    "## Reading data from different sources ##\n",
    "import pandas as pd\n",
    "from io import StringIO\n",
    "data={}\n",
    "df=pd.read_json(StringIO(data))\n",
    "df.to_json(orient='record')    ## By Default orient = index ##\n",
    "\n",
    "\n",
    "df=pd.read_csv('http...............',header=None)\n",
    "df.head()\n",
    "df.to_csv('vine.csv')   ## new file to save ##\n",
    "\n",
    "pd.read_hrml('url',match='country',header=0)\n"
   ]
  }
 ],
 "metadata": {
  "kernelspec": {
   "display_name": "Python 3",
   "language": "python",
   "name": "python3"
  },
  "language_info": {
   "codemirror_mode": {
    "name": "ipython",
    "version": 3
   },
   "file_extension": ".py",
   "mimetype": "text/x-python",
   "name": "python",
   "nbconvert_exporter": "python",
   "pygments_lexer": "ipython3",
   "version": "3.10.0"
  }
 },
 "nbformat": 4,
 "nbformat_minor": 5
}
