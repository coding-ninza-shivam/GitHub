{
 "cells": [
  {
   "cell_type": "code",
   "execution_count": 1,
   "id": "adaf1491",
   "metadata": {},
   "outputs": [],
   "source": [
    "import sqlite3"
   ]
  },
  {
   "cell_type": "code",
   "execution_count": 2,
   "id": "cb725f4b",
   "metadata": {},
   "outputs": [],
   "source": [
    "## Connection to DBs ##\n",
    "connection= sqlite3.connect('example.db')\n",
    "## Cursor ##\n",
    "cursor=connection.cursor()"
   ]
  },
  {
   "cell_type": "code",
   "execution_count": 3,
   "id": "55d23dba",
   "metadata": {},
   "outputs": [
    {
     "data": {
      "text/plain": [
       "<sqlite3.Cursor at 0x168ab6bb0c0>"
      ]
     },
     "execution_count": 3,
     "metadata": {},
     "output_type": "execute_result"
    }
   ],
   "source": [
    "## Creating a table ##\n",
    "cursor.execute('''\n",
    "CREATE TABLE IF NOT EXISTS employees(\n",
    "               id INTEGER PRIMARY KEY,\n",
    "               name TEXT NOT NULL,\n",
    "               age INTEGER,\n",
    "               department TEXT\n",
    "               )\n",
    "''')"
   ]
  },
  {
   "cell_type": "code",
   "execution_count": 5,
   "id": "26d18a9f",
   "metadata": {},
   "outputs": [],
   "source": [
    "## commit the changes ##\n",
    "connection.commit()\n",
    "\n",
    " ## closing the Connection ##\n",
    "# Connection.close()"
   ]
  },
  {
   "cell_type": "code",
   "execution_count": 6,
   "id": "0140a056",
   "metadata": {},
   "outputs": [],
   "source": [
    "## insert some data ##\n",
    "cursor.execute('''\n",
    "INSERT INTO employees(name, age,department)\n",
    "               VALUES ('Charlie', 34, 'Maths')\n",
    "''')\n",
    "connection.commit()"
   ]
  },
  {
   "cell_type": "code",
   "execution_count": 7,
   "id": "766798e1",
   "metadata": {},
   "outputs": [
    {
     "name": "stdout",
     "output_type": "stream",
     "text": [
      "(1, 'Okha', 34, 'Maths')\n",
      "(2, 'Okha', 34, 'Maths')\n",
      "(3, 'Okha', 34, 'Maths')\n",
      "(4, 'Charlie', 34, 'Maths')\n"
     ]
    }
   ],
   "source": [
    "## query the data from sqlite3 ##\n",
    "cursor.execute('SELECT * FROM employees')\n",
    "rows= cursor.fetchall()\n",
    "\n",
    "## print the query data ##\n",
    "for row in rows:\n",
    "    print(row)\n",
    "    "
   ]
  },
  {
   "cell_type": "code",
   "execution_count": 8,
   "id": "d6ccd404",
   "metadata": {},
   "outputs": [],
   "source": [
    "## update data in the table ##\n",
    "cursor.execute('''\n",
    "UPDATE employees\n",
    "SET age=35 \n",
    "WHERE name='Charlie'   \n",
    "''')\n",
    "connection.commit()"
   ]
  },
  {
   "cell_type": "code",
   "execution_count": 9,
   "id": "6c1c3c82",
   "metadata": {},
   "outputs": [
    {
     "name": "stdout",
     "output_type": "stream",
     "text": [
      "(1, 'Okha', 34, 'Maths')\n",
      "(2, 'Okha', 34, 'Maths')\n",
      "(3, 'Okha', 34, 'Maths')\n",
      "(4, 'Charlie', 35, 'Maths')\n"
     ]
    }
   ],
   "source": [
    "## query the data from sqlite3 ##\n",
    "cursor.execute('SELECT * FROM employees')\n",
    "rows= cursor.fetchall()\n",
    "\n",
    "## print the query data ##\n",
    "for row in rows:\n",
    "    print(row)\n"
   ]
  },
  {
   "cell_type": "code",
   "execution_count": 11,
   "id": "8f58d168",
   "metadata": {},
   "outputs": [],
   "source": [
    "## Delete the data from table ##\n",
    "cursor.execute('''\n",
    "DELETE FROM employees \n",
    "WHERE name= 'Charlie'\n",
    "''')\n",
    "connection.commit()"
   ]
  },
  {
   "cell_type": "code",
   "execution_count": null,
   "id": "566bc01b",
   "metadata": {},
   "outputs": [],
   "source": []
  },
  {
   "cell_type": "code",
   "execution_count": 12,
   "id": "736084ef",
   "metadata": {},
   "outputs": [],
   "source": [
    "## Working with sales data ##\n",
    "import sqlite3\n",
    "\n",
    "Connection= sqlite3.connect('sales_data.db')\n",
    "cursor=Connection.cursor()\n",
    "\n",
    "#Table#\n",
    "\n",
    "cursor.execute('''\n",
    "CREATE TABLE IF NOT EXISTS sales(\n",
    "               id INTEGER PRIMARY KEY,\n",
    "               date TEXT NOT NULL,\n",
    "               product TEXT NOT NULL,\n",
    "               sales INTEGER,\n",
    "               region TEXT\n",
    "               )\n",
    "''')\n",
    "\n",
    "# Insert data#\n",
    "sales_data=[\n",
    "    ('2025-01-01', 'Product1', 100, 'North'),\n",
    "    ('2025-01-02', 'Product2', 200, 'South'),\n",
    "    ('2025-01-03', 'Product1', 150, 'East'),\n",
    "    ('2025-01-04', 'Product3', 250, 'West'),\n",
    "    ('2025-01-05', 'Product2', 300, 'North')\n",
    "]\n",
    "cursor.executemany('''\n",
    "INSERT INTO sales(date,product,sales,region)\n",
    "VALUES(?,?,?,?)\n",
    "''', sales_data)\n",
    "Connection.commit()"
   ]
  },
  {
   "cell_type": "code",
   "execution_count": 13,
   "id": "be00298c",
   "metadata": {},
   "outputs": [],
   "source": [
    "## Close the connection ##\n",
    "\n",
    "Connection.close()"
   ]
  }
 ],
 "metadata": {
  "kernelspec": {
   "display_name": "Python 3",
   "language": "python",
   "name": "python3"
  },
  "language_info": {
   "codemirror_mode": {
    "name": "ipython",
    "version": 3
   },
   "file_extension": ".py",
   "mimetype": "text/x-python",
   "name": "python",
   "nbconvert_exporter": "python",
   "pygments_lexer": "ipython3",
   "version": "3.10.0"
  }
 },
 "nbformat": 4,
 "nbformat_minor": 5
}
