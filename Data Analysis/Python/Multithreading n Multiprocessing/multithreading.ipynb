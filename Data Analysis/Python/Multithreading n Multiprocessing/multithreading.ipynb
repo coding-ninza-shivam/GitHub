{
 "cells": [
  {
   "cell_type": "markdown",
   "id": "2cd342df",
   "metadata": {},
   "source": [
    "MULTITHREADING\n",
    "\n",
    "When to use multithreading?????\n",
    "\n",
    "I/O bound operations(\n",
    "    Tasks that spend more time waiting for I/O operations \n",
    "    Ex- File operations, Network requests\n",
    ")"
   ]
  },
  {
   "cell_type": "code",
   "execution_count": 1,
   "id": "cd12c9ce",
   "metadata": {},
   "outputs": [],
   "source": [
    "import threading \n",
    "import time\n",
    "# Indicating some task being done #\n",
    "\n",
    "def func(sec):\n",
    "    print(f'Sleeping for {sec} seconds')\n",
    "    time.sleep(sec)\n"
   ]
  },
  {
   "cell_type": "code",
   "execution_count": 2,
   "id": "f8e6f104",
   "metadata": {},
   "outputs": [
    {
     "name": "stdout",
     "output_type": "stream",
     "text": [
      "Sleeping for 4 seconds\n",
      "Sleeping for 2 seconds\n",
      "Sleeping for 1 seconds\n"
     ]
    }
   ],
   "source": [
    "# Normal code # \n",
    "func(4)\n",
    "func(2)\n",
    "func(1)"
   ]
  },
  {
   "cell_type": "code",
   "execution_count": 4,
   "id": "80016af8",
   "metadata": {},
   "outputs": [
    {
     "name": "stdout",
     "output_type": "stream",
     "text": [
      "Sleeping for 4 seconds\n",
      "Sleeping for 2 seconds\n",
      "Sleeping for 1 seconds\n"
     ]
    }
   ],
   "source": [
    "# Using threads # \n",
    "t1=threading.Thread(target=func,args=[4])\n",
    "t2=threading.Thread(target=func,args=[2])\n",
    "t3=threading.Thread(target=func,args=[1])\n",
    "\n",
    "# Initialising work #\n",
    "t1.start()\n",
    "t2.start()\n",
    "t3.start()\n",
    "\n",
    "# It took 0.0023......... second #"
   ]
  },
  {
   "cell_type": "code",
   "execution_count": 5,
   "id": "9ae98b9f",
   "metadata": {},
   "outputs": [
    {
     "name": "stdout",
     "output_type": "stream",
     "text": [
      "Sleeping for 4 seconds\n",
      "Sleeping for 2 seconds\n",
      "Sleeping for 1 seconds\n"
     ]
    }
   ],
   "source": [
    "# Using threads # \n",
    "t1=threading.Thread(target=func,args=[4])\n",
    "t2=threading.Thread(target=func,args=[2])\n",
    "t3=threading.Thread(target=func,args=[1])\n",
    "\n",
    "# Initialising work and wait until work is finished #\n",
    "t1.start()\n",
    "t2.start()\n",
    "t3.start()\n",
    "\n",
    "t1.join()\n",
    "t2.join()\n",
    "t3.join()\n",
    "\n",
    "# It took 4 seconds #"
   ]
  },
  {
   "cell_type": "code",
   "execution_count": null,
   "id": "58eaed7c",
   "metadata": {},
   "outputs": [],
   "source": [
    "# Auto way of creating threads #\n",
    "import concurrent.futures as cf"
   ]
  },
  {
   "cell_type": "code",
   "execution_count": 10,
   "id": "e9329afe",
   "metadata": {},
   "outputs": [],
   "source": [
    "def funct(sec):\n",
    "    print(f'Sleeping for {sec} seconds')\n",
    "    time.sleep(sec)\n",
    "    return 'Done sleeping.'\n"
   ]
  },
  {
   "cell_type": "code",
   "execution_count": 11,
   "id": "3b671b18",
   "metadata": {},
   "outputs": [
    {
     "name": "stdout",
     "output_type": "stream",
     "text": [
      "Sleeping for 1 seconds\n",
      "Sleeping for 2 seconds\n",
      "Done sleeping.\n",
      "Done sleeping.\n"
     ]
    }
   ],
   "source": [
    "with cf.ThreadPoolExecutor() as executor:\n",
    "    f1=executor.submit(funct,1)# returns a Future instance representing the execution of the callable #\n",
    "    f2=executor.submit(funct,2)\n",
    "    print(f1.result())\n",
    "    print(f2.result())"
   ]
  },
  {
   "cell_type": "code",
   "execution_count": null,
   "id": "26d999fc",
   "metadata": {},
   "outputs": [
    {
     "name": "stdout",
     "output_type": "stream",
     "text": [
      "Sleeping for 1 seconds\n",
      "Sleeping for 2 seconds\n",
      "Sleeping for 3 seconds\n",
      "Sleeping for 4 seconds\n",
      "Sleeping for 5 seconds\n",
      "Done sleeping.\n",
      "Done sleeping.\n",
      "Done sleeping.\n",
      "Done sleeping.\n",
      "Done sleeping.\n"
     ]
    }
   ],
   "source": [
    "with cf.ThreadPoolExecutor() as executor:\n",
    "    secs=[1,2,3,4,5]\n",
    "    results = [executor.submit(funct,sec) for sec in secs]## Using list comprehension ## Can also use map in spite of this ##\n",
    "\n",
    "    for f in cf.as_completed(results):\n",
    "        print(f.result())"
   ]
  },
  {
   "cell_type": "markdown",
   "id": "a32aaa6c",
   "metadata": {},
   "source": [
    "## Web scraping ##\n",
    "Web scraping is the automated process of extracting data from websites. \n",
    "It involves making numerous requests to fetch web pages.\n",
    "These tasks are I/O bound because they spend a lot of time waiting for response from server."
   ]
  },
  {
   "cell_type": "code",
   "execution_count": 1,
   "id": "244a2f47",
   "metadata": {},
   "outputs": [],
   "source": [
    "import threading\n",
    "import requests # type: ignore\n",
    "from bs4 import BeautifulSoup"
   ]
  },
  {
   "cell_type": "code",
   "execution_count": 2,
   "id": "c285cbdb",
   "metadata": {},
   "outputs": [],
   "source": [
    "urls=[\n",
    "'https://python.langchain.com/docs/introduction/',\n",
    "'https://python.langchain.com/docs/tutorials/',\n",
    "'https://python.langchain.com/docs/tutorials/'\n",
    "]"
   ]
  },
  {
   "cell_type": "markdown",
   "id": "64ff0c38",
   "metadata": {},
   "source": [
    "We will create 3 threads and will hit all the 3 urls at once."
   ]
  },
  {
   "cell_type": "code",
   "execution_count": 3,
   "id": "295121a0",
   "metadata": {},
   "outputs": [
    {
     "name": "stdout",
     "output_type": "stream",
     "text": [
      "Fetched 9857 characters from https://python.langchain.com/docs/tutorials/\n",
      "Fetched 9857 characters from https://python.langchain.com/docs/tutorials/\n",
      "Fetched 12237 characters from https://python.langchain.com/docs/introduction/\n",
      "All web pages fetched. \n"
     ]
    }
   ],
   "source": [
    "def fetch_content(url):\n",
    "    response=requests.get(url)\n",
    "    soup=BeautifulSoup(response.content,'html.parser')\n",
    "    print(f'Fetched {len(soup.text)} characters from {url}')\n",
    "\n",
    "threads=[]\n",
    "\n",
    "for url in urls:\n",
    "    thread=threading.Thread(target=fetch_content, args=(url, ))\n",
    "    threads.append(thread)\n",
    "    thread.start()\n",
    "\n",
    "for thread in threads:\n",
    "    thread.join()\n",
    "\n",
    "print('All web pages fetched. ')"
   ]
  }
 ],
 "metadata": {
  "kernelspec": {
   "display_name": "base",
   "language": "python",
   "name": "python3"
  },
  "language_info": {
   "codemirror_mode": {
    "name": "ipython",
    "version": 3
   },
   "file_extension": ".py",
   "mimetype": "text/x-python",
   "name": "python",
   "nbconvert_exporter": "python",
   "pygments_lexer": "ipython3",
   "version": "3.12.7"
  }
 },
 "nbformat": 4,
 "nbformat_minor": 5
}
