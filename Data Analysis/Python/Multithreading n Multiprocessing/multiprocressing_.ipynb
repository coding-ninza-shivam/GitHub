{
 "cells": [
  {
   "cell_type": "markdown",
   "id": "3e577e82",
   "metadata": {},
   "source": [
    "MULTIPROCESSING\n",
    "It provides a simple way to run multiple processes in parallel\n",
    "It allows you to take the advantage of multiple cores on your system and can significantly improve the performance of your code.\n",
    "For CPU bound task (Ex- Mathematical Computations and Data Handeling)"
   ]
  },
  {
   "cell_type": "code",
   "execution_count": 13,
   "id": "868d674e",
   "metadata": {},
   "outputs": [],
   "source": [
    "import multiprocessing\n",
    "import time\n",
    "def square_num():\n",
    "    for i in range(5):\n",
    "        time.sleep(1)\n",
    "        print(f'Square: {i*i}')\n",
    "\n",
    "def cube_num():\n",
    "    for i in range(5):\n",
    "        time.sleep(1.5)\n",
    "        print(f'Cube: {i*i*i}')\n",
    "\n",
    "if __name__==\"__main__\":\n",
    "    ## Create 2 processes ##\n",
    "    p1=multiprocessing.Process(target=square_num)\n",
    "    p2=multiprocessing.Process(target=cube_num)\n",
    "\n",
    "    p1.start()\n",
    "    p2.start()\n",
    "\n",
    "    p1.join()\n",
    "    p2.join()"
   ]
  }
 ],
 "metadata": {
  "kernelspec": {
   "display_name": "Python 3",
   "language": "python",
   "name": "python3"
  },
  "language_info": {
   "codemirror_mode": {
    "name": "ipython",
    "version": 3
   },
   "file_extension": ".py",
   "mimetype": "text/x-python",
   "name": "python",
   "nbconvert_exporter": "python",
   "pygments_lexer": "ipython3",
   "version": "3.10.0"
  }
 },
 "nbformat": 4,
 "nbformat_minor": 5
}
