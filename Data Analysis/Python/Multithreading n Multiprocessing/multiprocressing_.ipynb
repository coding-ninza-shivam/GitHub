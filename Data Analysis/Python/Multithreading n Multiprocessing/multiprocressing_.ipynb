{
 "cells": [
  {
   "cell_type": "markdown",
   "id": "3e577e82",
   "metadata": {},
   "source": [
    "MULTIPROCESSING\n",
    "It provides a simple way to run multiple processes in parallel\n",
    "It allows you to take the advantage of multiple cores on your system and can significantly improve the performance of your code.\n",
    "For CPU bound task (Ex- Mathematical Computations and Data Handeling)"
   ]
  },
  {
   "cell_type": "code",
   "execution_count": 13,
   "id": "868d674e",
   "metadata": {},
   "outputs": [],
   "source": [
    "import multiprocessing\n",
    "import time\n",
    "def square_num():\n",
    "    for i in range(5):\n",
    "        time.sleep(1)\n",
    "        print(f'Square: {i*i}')\n",
    "\n",
    "def cube_num():\n",
    "    for i in range(5):\n",
    "        time.sleep(1.5)\n",
    "        print(f'Cube: {i*i*i}')\n",
    "\n",
    "if __name__==\"__main__\":\n",
    "    ## Create 2 processes ##\n",
    "    p1=multiprocessing.Process(target=square_num)\n",
    "    p2=multiprocessing.Process(target=cube_num)\n",
    "\n",
    "    p1.start()\n",
    "    p2.start()\n",
    "\n",
    "    p1.join()\n",
    "    p2.join()"
   ]
  },
  {
   "cell_type": "markdown",
   "id": "3253ee73",
   "metadata": {},
   "source": [
    "Real world example: Multiprocessing for CPU bound task"
   ]
  },
  {
   "cell_type": "code",
   "execution_count": 1,
   "id": "78d7ab84",
   "metadata": {},
   "outputs": [],
   "source": [
    "import multiprocessing \n",
    "import math\n",
    "import sys\n",
    "import time"
   ]
  },
  {
   "cell_type": "code",
   "execution_count": null,
   "id": "625c72fe",
   "metadata": {},
   "outputs": [],
   "source": [
    "# Increase the max no. of digits for int conversion.\n",
    "\n",
    "sys.set_int_max_str_digits(100000)\n",
    "\n",
    "# Function to compute factorials of a given number. \n",
    "\n",
    "def compute_factorials(number):\n",
    "    print(f'Computing factorial of {number}')\n",
    "    result= math.factorial(number)\n",
    "    print(f'Factorial of {number} is {result}')\n",
    "    return result\n",
    "\n",
    "if __name__=='__main__':\n",
    "    numbers= [5000, 6000, 7000, 8000]\n",
    "\n",
    "    start_time= time.time()\n",
    "\n",
    "    # Create a pool of worker processes.\n",
    "\n",
    "    with multiprocessing.Pool() as pool:\n",
    "        results= pool.map(compute_factorials, numbers)\n",
    "\n",
    "    end_time=time.time()\n",
    "\n",
    "    print(f'Results: {results}')\n",
    "    print(f'Time taken: {end_time - start_time} seconds.')\n"
   ]
  }
 ],
 "metadata": {
  "kernelspec": {
   "display_name": "base",
   "language": "python",
   "name": "python3"
  },
  "language_info": {
   "codemirror_mode": {
    "name": "ipython",
    "version": 3
   },
   "file_extension": ".py",
   "mimetype": "text/x-python",
   "name": "python",
   "nbconvert_exporter": "python",
   "pygments_lexer": "ipython3",
   "version": "3.12.7"
  }
 },
 "nbformat": 4,
 "nbformat_minor": 5
}
