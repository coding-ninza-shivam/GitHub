{
 "cells": [
  {
   "cell_type": "code",
   "execution_count": 1,
   "id": "24e5ee2b",
   "metadata": {},
   "outputs": [
    {
     "name": "stdout",
     "output_type": "stream",
     "text": [
      "Initial size: 56\n",
      "1-->88\n",
      "2-->88\n",
      "3-->88\n",
      "4-->88\n",
      "5-->120\n",
      "6-->120\n",
      "7-->120\n",
      "8-->120\n",
      "9-->184\n",
      "10-->184\n",
      "11-->184\n",
      "12-->184\n",
      "13-->184\n",
      "14-->184\n",
      "15-->184\n",
      "16-->184\n"
     ]
    }
   ],
   "source": [
    "import sys \n",
    "\n",
    "l1=[]\n",
    "\n",
    "print(\"Initial size:\",sys.getsizeof(l1))\n",
    "\n",
    "for i in range(1,17):\n",
    "    l1.append(i)\n",
    "    print(f'{i}-->{sys.getsizeof(l1)}')"
   ]
  },
  {
   "cell_type": "code",
   "execution_count": 2,
   "id": "dcdddb1f",
   "metadata": {},
   "outputs": [
    {
     "name": "stdout",
     "output_type": "stream",
     "text": [
      "140726569216440\n",
      "140726569216440\n",
      "140726569216440\n"
     ]
    }
   ],
   "source": [
    "l1=[]\n",
    "\n",
    "a=1\n",
    "\n",
    "l1.append(1)\n",
    "\n",
    "print(id(1))\n",
    "print(id(a))\n",
    "print(id(l1[0]))"
   ]
  },
  {
   "cell_type": "markdown",
   "id": "7df1948d",
   "metadata": {},
   "source": [
    "All of them are having a same id or adress.\n",
    "It shows that the python is working via a reference.\n",
    "While in other languages we are storing exact element by a value."
   ]
  }
 ],
 "metadata": {
  "kernelspec": {
   "display_name": "base",
   "language": "python",
   "name": "python3"
  },
  "language_info": {
   "codemirror_mode": {
    "name": "ipython",
    "version": 3
   },
   "file_extension": ".py",
   "mimetype": "text/x-python",
   "name": "python",
   "nbconvert_exporter": "python",
   "pygments_lexer": "ipython3",
   "version": "3.12.7"
  }
 },
 "nbformat": 4,
 "nbformat_minor": 5
}
