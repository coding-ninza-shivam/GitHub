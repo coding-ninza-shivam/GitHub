{
 "cells": [
  {
   "cell_type": "markdown",
   "id": "5be94d02",
   "metadata": {},
   "source": [
    "Logging is a means of tracking events that happen when some software runs. Logging is important for software developing, debugging, and running. If you don’t have any logging record and your program crashes, there are very few chances that you detect the cause of the problem. And if you detect the cause, it will consume a lot of time. With logging, you can leave a trail of breadcrumbs so that if something goes wrong, we can determine the cause of the problem. "
   ]
  },
  {
   "cell_type": "code",
   "execution_count": 1,
   "id": "c5491823",
   "metadata": {},
   "outputs": [],
   "source": [
    "import logging"
   ]
  },
  {
   "cell_type": "markdown",
   "id": "4293bbca",
   "metadata": {},
   "source": [
    "Python Logging Levels\n",
    " Debug: These are used to give Detailed information, typically of interest only when diagnosing problems.\n",
    " Info: These are used to confirm that things are working as expected\n",
    " Warning: These are used as an indication that something unexpected happened, or is indicative of some problem in the near future\n",
    " Error: This tells that due to a more serious problem, the software has not been able to perform some function\n",
    " Critical: This tells serious error, indicating that the program itself may be unable to continue running"
   ]
  },
  {
   "cell_type": "code",
   "execution_count": null,
   "id": "b8224f63",
   "metadata": {},
   "outputs": [],
   "source": [
    "## Configure the basic loggin srttings ##\n",
    "logging.basicConfig(filename='test.log',filemode='w',format='%(asctime)s:%(levelname)s:%(message)s',level=logging.DEBUG)    "
   ]
  },
  {
   "cell_type": "code",
   "execution_count": 12,
   "id": "e879d04b",
   "metadata": {},
   "outputs": [],
   "source": [
    "## log message with different severity levels ##\n",
    "logging.debug(\"This is a debug message\")\n",
    "logging.info(\"This is an info message\")\n",
    "logging.warning(\"This is a warning message\")\n",
    "logging.error(\"This is an error message\")\n",
    "logging.critical(\"This is a critical message\")"
   ]
  },
  {
   "cell_type": "code",
   "execution_count": 17,
   "id": "abd34024",
   "metadata": {},
   "outputs": [],
   "source": [
    "x = 3\n",
    "y = 4\n",
    "\n",
    "logging.info(f\"The values of x and y are {x} and {y}.\")\n",
    "try:\n",
    "    x/y\n",
    "    logging.info(f\"x/y successful with result: {x/y}.\")\n",
    "except ZeroDivisionError as err:\n",
    "    logging.error(\"ZeroDivisionError\",exc_info=True)"
   ]
  }
 ],
 "metadata": {
  "kernelspec": {
   "display_name": "Python 3",
   "language": "python",
   "name": "python3"
  },
  "language_info": {
   "codemirror_mode": {
    "name": "ipython",
    "version": 3
   },
   "file_extension": ".py",
   "mimetype": "text/x-python",
   "name": "python",
   "nbconvert_exporter": "python",
   "pygments_lexer": "ipython3",
   "version": "3.10.0"
  }
 },
 "nbformat": 4,
 "nbformat_minor": 5
}
