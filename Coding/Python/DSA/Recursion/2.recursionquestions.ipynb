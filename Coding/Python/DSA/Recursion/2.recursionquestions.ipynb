{
 "cells": [
  {
   "cell_type": "markdown",
   "id": "be62c278",
   "metadata": {},
   "source": [
    "Disclaimer: Pehla PMI padh kr aao"
   ]
  },
  {
   "cell_type": "markdown",
   "id": "49625701",
   "metadata": {},
   "source": [
    "1. Find 2**n for a given n using recursion."
   ]
  },
  {
   "cell_type": "code",
   "execution_count": 2,
   "id": "44970775",
   "metadata": {},
   "outputs": [
    {
     "name": "stdout",
     "output_type": "stream",
     "text": [
      "32\n"
     ]
    }
   ],
   "source": [
    "def power2(n):\n",
    "    #step 1: Base case = 1\n",
    "    if (n==1):\n",
    "        return 2\n",
    "    \n",
    "    #step2: Assume [ Induction Hypothesis ]\n",
    "    smallAnswer = power2(n-1)\n",
    "\n",
    "    #step3: Use step2 and find answer\n",
    "    ans = 2*smallAnswer\n",
    "\n",
    "    return ans\n",
    "\n",
    "print(power2(5))"
   ]
  },
  {
   "cell_type": "markdown",
   "id": "313b1879",
   "metadata": {},
   "source": [
    "2. Write a program to find sum of all natutal numbers upto a given number n. Also state the recurrance relation and draw the recurssion tree."
   ]
  },
  {
   "cell_type": "code",
   "execution_count": null,
   "id": "68aa4e89",
   "metadata": {},
   "outputs": [
    {
     "name": "stdout",
     "output_type": "stream",
     "text": [
      "0\n",
      "55\n"
     ]
    }
   ],
   "source": [
    "def sumOfNumbersTillN(n):\n",
    "    if n==0: #1\n",
    "        return 0\n",
    "    \n",
    "    small_sum =sumOfNumbersTillN(n-1) #2\n",
    "\n",
    "    sum=n+small_sum #3\n",
    "    \n",
    "    return sum\n",
    "\n",
    "print(sumOfNumbersTillN(0))\n",
    "print(sumOfNumbersTillN(10))"
   ]
  },
  {
   "cell_type": "markdown",
   "id": "d0b2d43b",
   "metadata": {},
   "source": [
    "3. Write a program to find the no. of digits in a number.Also state the recurrance relation and draw the recurssion tree."
   ]
  },
  {
   "cell_type": "code",
   "execution_count": null,
   "id": "814fda18",
   "metadata": {},
   "outputs": [],
   "source": []
  }
 ],
 "metadata": {
  "kernelspec": {
   "display_name": "base",
   "language": "python",
   "name": "python3"
  },
  "language_info": {
   "codemirror_mode": {
    "name": "ipython",
    "version": 3
   },
   "file_extension": ".py",
   "mimetype": "text/x-python",
   "name": "python",
   "nbconvert_exporter": "python",
   "pygments_lexer": "ipython3",
   "version": "3.12.7"
  }
 },
 "nbformat": 4,
 "nbformat_minor": 5
}
